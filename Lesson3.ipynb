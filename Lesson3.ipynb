{
 "cells": [
  {
   "cell_type": "code",
   "execution_count": 62,
   "metadata": {},
   "outputs": [],
   "source": [
    "from tensorflow import keras\n",
    "import tensorflow as tf\n",
    "from tensorflow.keras import layers\n",
    "import numpy as np\n",
    "import matplotlib.pyplot as plt\n",
    "import pandas as pd\n",
    "from sklearn.metrics import mean_squared_error, r2_score\n",
    "from sklearn.model_selection import train_test_split"
   ]
  },
  {
   "cell_type": "code",
   "execution_count": 15,
   "metadata": {},
   "outputs": [],
   "source": [
    "from tensorflow.keras.models import Sequential, Model\n",
    "from tensorflow.keras.layers import Input, Flatten, Dense\n",
    "from tensorflow.keras.utils import to_categorical, plot_model\n",
    "from tensorflow.keras.optimizers import Adam, SGD\n",
    "from tensorflow.keras.losses import CategoricalCrossentropy, SparseCategoricalCrossentropy, mean_squared_error # <== !!!\n",
    "from tensorflow.keras.metrics import RootMeanSquaredError, MeanSquaredError"
   ]
  },
  {
   "cell_type": "code",
   "execution_count": 3,
   "metadata": {},
   "outputs": [],
   "source": [
    "boston_data = load_boston()"
   ]
  },
  {
   "cell_type": "code",
   "execution_count": 105,
   "metadata": {},
   "outputs": [
    {
     "data": {
      "text/html": [
       "<div>\n",
       "<style scoped>\n",
       "    .dataframe tbody tr th:only-of-type {\n",
       "        vertical-align: middle;\n",
       "    }\n",
       "\n",
       "    .dataframe tbody tr th {\n",
       "        vertical-align: top;\n",
       "    }\n",
       "\n",
       "    .dataframe thead th {\n",
       "        text-align: right;\n",
       "    }\n",
       "</style>\n",
       "<table border=\"1\" class=\"dataframe\">\n",
       "  <thead>\n",
       "    <tr style=\"text-align: right;\">\n",
       "      <th></th>\n",
       "      <th>CRIM</th>\n",
       "      <th>ZN</th>\n",
       "      <th>INDUS</th>\n",
       "      <th>CHAS</th>\n",
       "      <th>NOX</th>\n",
       "      <th>RM</th>\n",
       "      <th>AGE</th>\n",
       "      <th>DIS</th>\n",
       "      <th>RAD</th>\n",
       "      <th>TAX</th>\n",
       "      <th>PTRATIO</th>\n",
       "      <th>B</th>\n",
       "      <th>LSTAT</th>\n",
       "      <th>target</th>\n",
       "    </tr>\n",
       "  </thead>\n",
       "  <tbody>\n",
       "    <tr>\n",
       "      <th>0</th>\n",
       "      <td>0.00632</td>\n",
       "      <td>18.0</td>\n",
       "      <td>2.31</td>\n",
       "      <td>0.0</td>\n",
       "      <td>0.538</td>\n",
       "      <td>6.575</td>\n",
       "      <td>65.2</td>\n",
       "      <td>4.0900</td>\n",
       "      <td>1.0</td>\n",
       "      <td>296.0</td>\n",
       "      <td>15.3</td>\n",
       "      <td>396.90</td>\n",
       "      <td>4.98</td>\n",
       "      <td>24.0</td>\n",
       "    </tr>\n",
       "    <tr>\n",
       "      <th>1</th>\n",
       "      <td>0.02731</td>\n",
       "      <td>0.0</td>\n",
       "      <td>7.07</td>\n",
       "      <td>0.0</td>\n",
       "      <td>0.469</td>\n",
       "      <td>6.421</td>\n",
       "      <td>78.9</td>\n",
       "      <td>4.9671</td>\n",
       "      <td>2.0</td>\n",
       "      <td>242.0</td>\n",
       "      <td>17.8</td>\n",
       "      <td>396.90</td>\n",
       "      <td>9.14</td>\n",
       "      <td>21.6</td>\n",
       "    </tr>\n",
       "    <tr>\n",
       "      <th>2</th>\n",
       "      <td>0.02729</td>\n",
       "      <td>0.0</td>\n",
       "      <td>7.07</td>\n",
       "      <td>0.0</td>\n",
       "      <td>0.469</td>\n",
       "      <td>7.185</td>\n",
       "      <td>61.1</td>\n",
       "      <td>4.9671</td>\n",
       "      <td>2.0</td>\n",
       "      <td>242.0</td>\n",
       "      <td>17.8</td>\n",
       "      <td>392.83</td>\n",
       "      <td>4.03</td>\n",
       "      <td>34.7</td>\n",
       "    </tr>\n",
       "    <tr>\n",
       "      <th>3</th>\n",
       "      <td>0.03237</td>\n",
       "      <td>0.0</td>\n",
       "      <td>2.18</td>\n",
       "      <td>0.0</td>\n",
       "      <td>0.458</td>\n",
       "      <td>6.998</td>\n",
       "      <td>45.8</td>\n",
       "      <td>6.0622</td>\n",
       "      <td>3.0</td>\n",
       "      <td>222.0</td>\n",
       "      <td>18.7</td>\n",
       "      <td>394.63</td>\n",
       "      <td>2.94</td>\n",
       "      <td>33.4</td>\n",
       "    </tr>\n",
       "    <tr>\n",
       "      <th>4</th>\n",
       "      <td>0.06905</td>\n",
       "      <td>0.0</td>\n",
       "      <td>2.18</td>\n",
       "      <td>0.0</td>\n",
       "      <td>0.458</td>\n",
       "      <td>7.147</td>\n",
       "      <td>54.2</td>\n",
       "      <td>6.0622</td>\n",
       "      <td>3.0</td>\n",
       "      <td>222.0</td>\n",
       "      <td>18.7</td>\n",
       "      <td>396.90</td>\n",
       "      <td>5.33</td>\n",
       "      <td>36.2</td>\n",
       "    </tr>\n",
       "  </tbody>\n",
       "</table>\n",
       "</div>"
      ],
      "text/plain": [
       "      CRIM    ZN  INDUS  CHAS    NOX     RM   AGE     DIS  RAD    TAX  \\\n",
       "0  0.00632  18.0   2.31   0.0  0.538  6.575  65.2  4.0900  1.0  296.0   \n",
       "1  0.02731   0.0   7.07   0.0  0.469  6.421  78.9  4.9671  2.0  242.0   \n",
       "2  0.02729   0.0   7.07   0.0  0.469  7.185  61.1  4.9671  2.0  242.0   \n",
       "3  0.03237   0.0   2.18   0.0  0.458  6.998  45.8  6.0622  3.0  222.0   \n",
       "4  0.06905   0.0   2.18   0.0  0.458  7.147  54.2  6.0622  3.0  222.0   \n",
       "\n",
       "   PTRATIO       B  LSTAT  target  \n",
       "0     15.3  396.90   4.98    24.0  \n",
       "1     17.8  396.90   9.14    21.6  \n",
       "2     17.8  392.83   4.03    34.7  \n",
       "3     18.7  394.63   2.94    33.4  \n",
       "4     18.7  396.90   5.33    36.2  "
      ]
     },
     "execution_count": 105,
     "metadata": {},
     "output_type": "execute_result"
    }
   ],
   "source": [
    "#Загрузим датасет\n",
    "df = pd.DataFrame(boston_data.data, columns=boston_data.feature_names)\n",
    "df['target'] = pd.Series(boston_data.target)\n",
    "df.head()"
   ]
  },
  {
   "cell_type": "code",
   "execution_count": 106,
   "metadata": {},
   "outputs": [
    {
     "data": {
      "text/plain": [
       "CRIM       0\n",
       "ZN         0\n",
       "INDUS      0\n",
       "CHAS       0\n",
       "NOX        0\n",
       "RM         0\n",
       "AGE        0\n",
       "DIS        0\n",
       "RAD        0\n",
       "TAX        0\n",
       "PTRATIO    0\n",
       "B          0\n",
       "LSTAT      0\n",
       "target     0\n",
       "dtype: int64"
      ]
     },
     "execution_count": 106,
     "metadata": {},
     "output_type": "execute_result"
    }
   ],
   "source": [
    "#проверим пропуски\n",
    "df.isna().sum()"
   ]
  },
  {
   "cell_type": "code",
   "execution_count": 107,
   "metadata": {},
   "outputs": [
    {
     "data": {
      "text/plain": [
       "(506, 14)"
      ]
     },
     "execution_count": 107,
     "metadata": {},
     "output_type": "execute_result"
    }
   ],
   "source": [
    "#посмотрим структуру\n",
    "df.shape"
   ]
  },
  {
   "cell_type": "code",
   "execution_count": 108,
   "metadata": {},
   "outputs": [],
   "source": [
    "X = df.drop(['target'], axis=1)\n",
    "y = df['target']"
   ]
  },
  {
   "cell_type": "code",
   "execution_count": 109,
   "metadata": {},
   "outputs": [],
   "source": [
    "MinMaxSc = MinMaxScaler()\n",
    "X_scaled = MinMaxSc.fit_transform(X)"
   ]
  },
  {
   "cell_type": "code",
   "execution_count": 110,
   "metadata": {},
   "outputs": [],
   "source": [
    "#Разделим датасет на трен и тест\n",
    "from sklearn.model_selection import train_test_split\n",
    "\n",
    "X_train, X_test, y_train, y_test = train_test_split(X_scaled, y, test_size = 0.25, random_state=1)"
   ]
  },
  {
   "cell_type": "code",
   "execution_count": 99,
   "metadata": {},
   "outputs": [],
   "source": [
    "def plot_loss(history):\n",
    "  plt.plot(history.history['loss'], label='loss')\n",
    "  plt.xlabel('Epoch')\n",
    "  plt.ylabel('Error')\n",
    "  plt.legend()\n",
    "  plt.grid(True)"
   ]
  },
  {
   "cell_type": "markdown",
   "metadata": {},
   "source": [
    "**Эксперементы**"
   ]
  },
  {
   "cell_type": "markdown",
   "metadata": {},
   "source": [
    "1 - 2 слоя, 5 эпох, 128 нейронов, оптимизатор - relu"
   ]
  },
  {
   "cell_type": "code",
   "execution_count": 119,
   "metadata": {},
   "outputs": [],
   "source": [
    "X_train1, X_test1, y_train1, y_test1 = X_train, X_test, y_train, y_test"
   ]
  },
  {
   "cell_type": "code",
   "execution_count": 120,
   "metadata": {},
   "outputs": [
    {
     "name": "stdout",
     "output_type": "stream",
     "text": [
      "Epoch 1/5\n",
      "38/38 [==============================] - 1s 2ms/step - loss: 165.7992 - mean_squared_error: 165.7992\n",
      "Epoch 2/5\n",
      "38/38 [==============================] - 0s 2ms/step - loss: 31.7658 - mean_squared_error: 31.7658\n",
      "Epoch 3/5\n",
      "38/38 [==============================] - 0s 2ms/step - loss: 23.4536 - mean_squared_error: 23.4536\n",
      "Epoch 4/5\n",
      "38/38 [==============================] - 0s 2ms/step - loss: 25.0678 - mean_squared_error: 25.0678\n",
      "Epoch 5/5\n",
      "38/38 [==============================] - 0s 3ms/step - loss: 23.2035 - mean_squared_error: 23.2035\n"
     ]
    },
    {
     "data": {
      "text/plain": [
       "0.8679340083349207"
      ]
     },
     "execution_count": 120,
     "metadata": {},
     "output_type": "execute_result"
    }
   ],
   "source": [
    "model = tf.keras.Sequential([\n",
    "    layers.Dense(128, activation='relu'),\n",
    "    layers.Dense(128, activation='relu'),\n",
    "    layers.Dense(units=1)\n",
    "])\n",
    "\n",
    "model.compile(optimizer=tf.optimizers.Adam(learning_rate=0.1),\n",
    "              loss=['mean_squared_error'],\n",
    "              metrics=['mean_squared_error'])\n",
    "\n",
    "history = model.fit(\n",
    "    X_train1,\n",
    "    y_train1,\n",
    "    epochs=5,\n",
    "    batch_size=10\n",
    ")\n",
    "\n",
    "y_pred_test = model.predict(X_test1)\n",
    "r2_score(y_test1, y_pred_test)\n"
   ]
  },
  {
   "cell_type": "code",
   "execution_count": 114,
   "metadata": {},
   "outputs": [
    {
     "data": {
      "image/png": "[encoded data removed]",
      "text/plain": [
       "<Figure size 432x288 with 1 Axes>"
      ]
     },
     "metadata": {
      "needs_background": "light"
     },
     "output_type": "display_data"
    }
   ],
   "source": [
    "plot_loss(history)"
   ]
  },
  {
   "cell_type": "code",
   "execution_count": 121,
   "metadata": {},
   "outputs": [
    {
     "data": {
      "text/html": [
       "<div>\n",
       "<style scoped>\n",
       "    .dataframe tbody tr th:only-of-type {\n",
       "        vertical-align: middle;\n",
       "    }\n",
       "\n",
       "    .dataframe tbody tr th {\n",
       "        vertical-align: top;\n",
       "    }\n",
       "\n",
       "    .dataframe thead th {\n",
       "        text-align: right;\n",
       "    }\n",
       "</style>\n",
       "<table border=\"1\" class=\"dataframe\">\n",
       "  <thead>\n",
       "    <tr style=\"text-align: right;\">\n",
       "      <th></th>\n",
       "      <th>name</th>\n",
       "      <th>1</th>\n",
       "    </tr>\n",
       "  </thead>\n",
       "  <tbody>\n",
       "    <tr>\n",
       "      <th>0</th>\n",
       "      <td>neron</td>\n",
       "      <td>128.0000</td>\n",
       "    </tr>\n",
       "    <tr>\n",
       "      <th>1</th>\n",
       "      <td>epochs</td>\n",
       "      <td>5.0000</td>\n",
       "    </tr>\n",
       "    <tr>\n",
       "      <th>2</th>\n",
       "      <td>layers</td>\n",
       "      <td>2.0000</td>\n",
       "    </tr>\n",
       "    <tr>\n",
       "      <th>3</th>\n",
       "      <td>R2</td>\n",
       "      <td>0.8679</td>\n",
       "    </tr>\n",
       "    <tr>\n",
       "      <th>4</th>\n",
       "      <td>mse</td>\n",
       "      <td>23.2035</td>\n",
       "    </tr>\n",
       "  </tbody>\n",
       "</table>\n",
       "</div>"
      ],
      "text/plain": [
       "     name         1\n",
       "0   neron  128.0000\n",
       "1  epochs    5.0000\n",
       "2  layers    2.0000\n",
       "3      R2    0.8679\n",
       "4     mse   23.2035"
      ]
     },
     "execution_count": 121,
     "metadata": {},
     "output_type": "execute_result"
    }
   ],
   "source": [
    "itog = pd.DataFrame({'name': ['neron', 'epochs', 'layers', 'R2', 'mse'], '1': [128, 5, 2, 0.8679, 23.2035]})\n",
    "itog"
   ]
  },
  {
   "cell_type": "markdown",
   "metadata": {},
   "source": [
    "2 - 3 слоя, 5 эпох, 128 нейронов, оптимизатор - relu"
   ]
  },
  {
   "cell_type": "code",
   "execution_count": 122,
   "metadata": {},
   "outputs": [],
   "source": [
    "X_train2, X_test2, y_train2, y_test2 = X_train, X_test, y_train, y_test"
   ]
  },
  {
   "cell_type": "code",
   "execution_count": 123,
   "metadata": {},
   "outputs": [
    {
     "name": "stdout",
     "output_type": "stream",
     "text": [
      "Epoch 1/5\n",
      "38/38 [==============================] - 1s 2ms/step - loss: 879.5228 - mean_squared_error: 879.5227\n",
      "Epoch 2/5\n",
      "38/38 [==============================] - 0s 2ms/step - loss: 47.5180 - mean_squared_error: 47.5180\n",
      "Epoch 3/5\n",
      "38/38 [==============================] - 0s 2ms/step - loss: 31.6594 - mean_squared_error: 31.6594\n",
      "Epoch 4/5\n",
      "38/38 [==============================] - 0s 2ms/step - loss: 35.3883 - mean_squared_error: 35.3883\n",
      "Epoch 5/5\n",
      "38/38 [==============================] - 0s 3ms/step - loss: 39.8861 - mean_squared_error: 39.8861\n"
     ]
    },
    {
     "data": {
      "text/plain": [
       "0.5818726556891276"
      ]
     },
     "execution_count": 123,
     "metadata": {},
     "output_type": "execute_result"
    }
   ],
   "source": [
    "model = tf.keras.Sequential([\n",
    "    layers.Dense(128, activation='relu'),\n",
    "    layers.Dense(128, activation='relu'),\n",
    "    layers.Dense(128, activation='relu'),\n",
    "    layers.Dense(units=1)\n",
    "])\n",
    "\n",
    "model.compile(optimizer=tf.optimizers.Adam(learning_rate=0.1),\n",
    "              loss=['mean_squared_error'],\n",
    "              metrics=['mean_squared_error'])\n",
    "\n",
    "history = model.fit(\n",
    "    X_train2,\n",
    "    y_train2,\n",
    "    epochs=5,\n",
    "    batch_size=10\n",
    ")\n",
    "\n",
    "y_pred_test = model.predict(X_test2)\n",
    "r2_score(y_test2, y_pred_test)\n"
   ]
  },
  {
   "cell_type": "code",
   "execution_count": 124,
   "metadata": {},
   "outputs": [
    {
     "data": {
      "text/html": [
       "<div>\n",
       "<style scoped>\n",
       "    .dataframe tbody tr th:only-of-type {\n",
       "        vertical-align: middle;\n",
       "    }\n",
       "\n",
       "    .dataframe tbody tr th {\n",
       "        vertical-align: top;\n",
       "    }\n",
       "\n",
       "    .dataframe thead th {\n",
       "        text-align: right;\n",
       "    }\n",
       "</style>\n",
       "<table border=\"1\" class=\"dataframe\">\n",
       "  <thead>\n",
       "    <tr style=\"text-align: right;\">\n",
       "      <th></th>\n",
       "      <th>name</th>\n",
       "      <th>1</th>\n",
       "      <th>2</th>\n",
       "    </tr>\n",
       "  </thead>\n",
       "  <tbody>\n",
       "    <tr>\n",
       "      <th>0</th>\n",
       "      <td>neron</td>\n",
       "      <td>128.0000</td>\n",
       "      <td>128.0000</td>\n",
       "    </tr>\n",
       "    <tr>\n",
       "      <th>1</th>\n",
       "      <td>epochs</td>\n",
       "      <td>5.0000</td>\n",
       "      <td>5.0000</td>\n",
       "    </tr>\n",
       "    <tr>\n",
       "      <th>2</th>\n",
       "      <td>layers</td>\n",
       "      <td>2.0000</td>\n",
       "      <td>3.0000</td>\n",
       "    </tr>\n",
       "    <tr>\n",
       "      <th>3</th>\n",
       "      <td>R2</td>\n",
       "      <td>0.8679</td>\n",
       "      <td>0.5800</td>\n",
       "    </tr>\n",
       "    <tr>\n",
       "      <th>4</th>\n",
       "      <td>mse</td>\n",
       "      <td>23.2035</td>\n",
       "      <td>39.8861</td>\n",
       "    </tr>\n",
       "  </tbody>\n",
       "</table>\n",
       "</div>"
      ],
      "text/plain": [
       "     name         1         2\n",
       "0   neron  128.0000  128.0000\n",
       "1  epochs    5.0000    5.0000\n",
       "2  layers    2.0000    3.0000\n",
       "3      R2    0.8679    0.5800\n",
       "4     mse   23.2035   39.8861"
      ]
     },
     "execution_count": 124,
     "metadata": {},
     "output_type": "execute_result"
    }
   ],
   "source": [
    "itog['2'] = [128, 5, 3, 0.58, 39.8861]\n",
    "itog"
   ]
  },
  {
   "cell_type": "markdown",
   "metadata": {},
   "source": [
    "3 - 3 слоя, 5 эпох, 256 нейронов, оптимизатор - relu"
   ]
  },
  {
   "cell_type": "code",
   "execution_count": 125,
   "metadata": {},
   "outputs": [],
   "source": [
    "X_train3, X_test3, y_train3, y_test3 = X_train, X_test, y_train, y_test"
   ]
  },
  {
   "cell_type": "code",
   "execution_count": 126,
   "metadata": {},
   "outputs": [
    {
     "name": "stdout",
     "output_type": "stream",
     "text": [
      "Epoch 1/5\n",
      "38/38 [==============================] - 1s 2ms/step - loss: 446.2158 - mean_squared_error: 446.2158\n",
      "Epoch 2/5\n",
      "38/38 [==============================] - 0s 2ms/step - loss: 41.2351 - mean_squared_error: 41.2351\n",
      "Epoch 3/5\n",
      "38/38 [==============================] - 0s 2ms/step - loss: 32.6530 - mean_squared_error: 32.6530\n",
      "Epoch 4/5\n",
      "38/38 [==============================] - 0s 3ms/step - loss: 44.4575 - mean_squared_error: 44.4575\n",
      "Epoch 5/5\n",
      "38/38 [==============================] - 0s 3ms/step - loss: 34.9009 - mean_squared_error: 34.9009\n"
     ]
    },
    {
     "data": {
      "text/plain": [
       "0.6696493663853074"
      ]
     },
     "execution_count": 126,
     "metadata": {},
     "output_type": "execute_result"
    }
   ],
   "source": [
    "model = tf.keras.Sequential([\n",
    "    layers.Dense(128, activation='relu'),\n",
    "    layers.Dense(128, activation='relu'),\n",
    "    layers.Dense(128, activation='relu'),\n",
    "    layers.Dense(units=1)\n",
    "])\n",
    "\n",
    "model.compile(optimizer=tf.optimizers.Adam(learning_rate=0.1),\n",
    "              loss=['mean_squared_error'],\n",
    "              metrics=['mean_squared_error'])\n",
    "\n",
    "history = model.fit(\n",
    "    X_train3,\n",
    "    y_train3,\n",
    "    epochs=5,\n",
    "    batch_size=10\n",
    ")\n",
    "\n",
    "y_pred_test = model.predict(X_test3)\n",
    "r2_score(y_test3, y_pred_test)\n"
   ]
  },
  {
   "cell_type": "code",
   "execution_count": 127,
   "metadata": {},
   "outputs": [
    {
     "data": {
      "text/html": [
       "<div>\n",
       "<style scoped>\n",
       "    .dataframe tbody tr th:only-of-type {\n",
       "        vertical-align: middle;\n",
       "    }\n",
       "\n",
       "    .dataframe tbody tr th {\n",
       "        vertical-align: top;\n",
       "    }\n",
       "\n",
       "    .dataframe thead th {\n",
       "        text-align: right;\n",
       "    }\n",
       "</style>\n",
       "<table border=\"1\" class=\"dataframe\">\n",
       "  <thead>\n",
       "    <tr style=\"text-align: right;\">\n",
       "      <th></th>\n",
       "      <th>name</th>\n",
       "      <th>1</th>\n",
       "      <th>2</th>\n",
       "      <th>3</th>\n",
       "    </tr>\n",
       "  </thead>\n",
       "  <tbody>\n",
       "    <tr>\n",
       "      <th>0</th>\n",
       "      <td>neron</td>\n",
       "      <td>128.0000</td>\n",
       "      <td>128.0000</td>\n",
       "      <td>256.0000</td>\n",
       "    </tr>\n",
       "    <tr>\n",
       "      <th>1</th>\n",
       "      <td>epochs</td>\n",
       "      <td>5.0000</td>\n",
       "      <td>5.0000</td>\n",
       "      <td>5.0000</td>\n",
       "    </tr>\n",
       "    <tr>\n",
       "      <th>2</th>\n",
       "      <td>layers</td>\n",
       "      <td>2.0000</td>\n",
       "      <td>3.0000</td>\n",
       "      <td>3.0000</td>\n",
       "    </tr>\n",
       "    <tr>\n",
       "      <th>3</th>\n",
       "      <td>R2</td>\n",
       "      <td>0.8679</td>\n",
       "      <td>0.5800</td>\n",
       "      <td>0.6600</td>\n",
       "    </tr>\n",
       "    <tr>\n",
       "      <th>4</th>\n",
       "      <td>mse</td>\n",
       "      <td>23.2035</td>\n",
       "      <td>39.8861</td>\n",
       "      <td>34.9009</td>\n",
       "    </tr>\n",
       "  </tbody>\n",
       "</table>\n",
       "</div>"
      ],
      "text/plain": [
       "     name         1         2         3\n",
       "0   neron  128.0000  128.0000  256.0000\n",
       "1  epochs    5.0000    5.0000    5.0000\n",
       "2  layers    2.0000    3.0000    3.0000\n",
       "3      R2    0.8679    0.5800    0.6600\n",
       "4     mse   23.2035   39.8861   34.9009"
      ]
     },
     "execution_count": 127,
     "metadata": {},
     "output_type": "execute_result"
    }
   ],
   "source": [
    "itog['3'] = [256, 5, 3, 0.66, 34.9009]\n",
    "itog"
   ]
  },
  {
   "cell_type": "markdown",
   "metadata": {},
   "source": [
    "4 - 3 слоя, 10 эпох, 256 нейронов, оптимизатор - relu"
   ]
  },
  {
   "cell_type": "code",
   "execution_count": 129,
   "metadata": {},
   "outputs": [],
   "source": [
    "X_train4, X_test4, y_train4, y_test4 = X_train, X_test, y_train, y_test"
   ]
  },
  {
   "cell_type": "code",
   "execution_count": 130,
   "metadata": {},
   "outputs": [
    {
     "name": "stdout",
     "output_type": "stream",
     "text": [
      "Epoch 1/10\n",
      "38/38 [==============================] - 1s 3ms/step - loss: 908.5101 - mean_squared_error: 908.5101\n",
      "Epoch 2/10\n",
      "38/38 [==============================] - 0s 3ms/step - loss: 45.0523 - mean_squared_error: 45.0523\n",
      "Epoch 3/10\n",
      "38/38 [==============================] - 0s 3ms/step - loss: 31.2987 - mean_squared_error: 31.2987\n",
      "Epoch 4/10\n",
      "38/38 [==============================] - 0s 3ms/step - loss: 30.5083 - mean_squared_error: 30.5083\n",
      "Epoch 5/10\n",
      "38/38 [==============================] - 0s 3ms/step - loss: 34.4227 - mean_squared_error: 34.4227\n",
      "Epoch 6/10\n",
      "38/38 [==============================] - 0s 3ms/step - loss: 25.0742 - mean_squared_error: 25.0742\n",
      "Epoch 7/10\n",
      "38/38 [==============================] - 0s 4ms/step - loss: 31.1206 - mean_squared_error: 31.1206\n",
      "Epoch 8/10\n",
      "38/38 [==============================] - 0s 2ms/step - loss: 21.7799 - mean_squared_error: 21.7799\n",
      "Epoch 9/10\n",
      "38/38 [==============================] - 0s 2ms/step - loss: 21.0715 - mean_squared_error: 21.0715\n",
      "Epoch 10/10\n",
      "38/38 [==============================] - 0s 2ms/step - loss: 32.6266 - mean_squared_error: 32.6266\n"
     ]
    },
    {
     "data": {
      "text/plain": [
       "0.845463553952503"
      ]
     },
     "execution_count": 130,
     "metadata": {},
     "output_type": "execute_result"
    }
   ],
   "source": [
    "model = tf.keras.Sequential([\n",
    "    layers.Dense(128, activation='relu'),\n",
    "    layers.Dense(128, activation='relu'),\n",
    "    layers.Dense(128, activation='relu'),\n",
    "    layers.Dense(units=1)\n",
    "])\n",
    "\n",
    "model.compile(optimizer=tf.optimizers.Adam(learning_rate=0.1),\n",
    "              loss=['mean_squared_error'],\n",
    "              metrics=['mean_squared_error'])\n",
    "\n",
    "history = model.fit(\n",
    "    X_train4,\n",
    "    y_train4,\n",
    "    epochs=10,\n",
    "    batch_size=10\n",
    ")\n",
    "\n",
    "y_pred_test = model.predict(X_test4)\n",
    "r2_score(y_test4, y_pred_test)\n"
   ]
  },
  {
   "cell_type": "code",
   "execution_count": 131,
   "metadata": {},
   "outputs": [
    {
     "data": {
      "text/html": [
       "<div>\n",
       "<style scoped>\n",
       "    .dataframe tbody tr th:only-of-type {\n",
       "        vertical-align: middle;\n",
       "    }\n",
       "\n",
       "    .dataframe tbody tr th {\n",
       "        vertical-align: top;\n",
       "    }\n",
       "\n",
       "    .dataframe thead th {\n",
       "        text-align: right;\n",
       "    }\n",
       "</style>\n",
       "<table border=\"1\" class=\"dataframe\">\n",
       "  <thead>\n",
       "    <tr style=\"text-align: right;\">\n",
       "      <th></th>\n",
       "      <th>name</th>\n",
       "      <th>1</th>\n",
       "      <th>2</th>\n",
       "      <th>3</th>\n",
       "      <th>4</th>\n",
       "    </tr>\n",
       "  </thead>\n",
       "  <tbody>\n",
       "    <tr>\n",
       "      <th>0</th>\n",
       "      <td>neron</td>\n",
       "      <td>128.0000</td>\n",
       "      <td>128.0000</td>\n",
       "      <td>256.0000</td>\n",
       "      <td>256.0000</td>\n",
       "    </tr>\n",
       "    <tr>\n",
       "      <th>1</th>\n",
       "      <td>epochs</td>\n",
       "      <td>5.0000</td>\n",
       "      <td>5.0000</td>\n",
       "      <td>5.0000</td>\n",
       "      <td>10.0000</td>\n",
       "    </tr>\n",
       "    <tr>\n",
       "      <th>2</th>\n",
       "      <td>layers</td>\n",
       "      <td>2.0000</td>\n",
       "      <td>3.0000</td>\n",
       "      <td>3.0000</td>\n",
       "      <td>3.0000</td>\n",
       "    </tr>\n",
       "    <tr>\n",
       "      <th>3</th>\n",
       "      <td>R2</td>\n",
       "      <td>0.8679</td>\n",
       "      <td>0.5800</td>\n",
       "      <td>0.6600</td>\n",
       "      <td>0.8400</td>\n",
       "    </tr>\n",
       "    <tr>\n",
       "      <th>4</th>\n",
       "      <td>mse</td>\n",
       "      <td>23.2035</td>\n",
       "      <td>39.8861</td>\n",
       "      <td>34.9009</td>\n",
       "      <td>32.6266</td>\n",
       "    </tr>\n",
       "  </tbody>\n",
       "</table>\n",
       "</div>"
      ],
      "text/plain": [
       "     name         1         2         3         4\n",
       "0   neron  128.0000  128.0000  256.0000  256.0000\n",
       "1  epochs    5.0000    5.0000    5.0000   10.0000\n",
       "2  layers    2.0000    3.0000    3.0000    3.0000\n",
       "3      R2    0.8679    0.5800    0.6600    0.8400\n",
       "4     mse   23.2035   39.8861   34.9009   32.6266"
      ]
     },
     "execution_count": 131,
     "metadata": {},
     "output_type": "execute_result"
    }
   ],
   "source": [
    "itog['4'] = [256, 10, 3, 0.84, 32.6266]\n",
    "itog"
   ]
  },
  {
   "cell_type": "markdown",
   "metadata": {},
   "source": [
    "5 - 3 слоя, 10 эпох, 256 нейронов, оптимизатор - RMSprop"
   ]
  },
  {
   "cell_type": "code",
   "execution_count": 132,
   "metadata": {},
   "outputs": [],
   "source": [
    "X_train5, X_test5, y_train5, y_test5 = X_train, X_test, y_train, y_test"
   ]
  },
  {
   "cell_type": "code",
   "execution_count": 133,
   "metadata": {},
   "outputs": [
    {
     "name": "stdout",
     "output_type": "stream",
     "text": [
      "Epoch 1/10\n",
      "38/38 [==============================] - 1s 2ms/step - loss: 1768225.3750 - mean_squared_error: 1768225.3750\n",
      "Epoch 2/10\n",
      "38/38 [==============================] - 0s 3ms/step - loss: 83.6254 - mean_squared_error: 83.6254\n",
      "Epoch 3/10\n",
      "38/38 [==============================] - 0s 3ms/step - loss: 64.2360 - mean_squared_error: 64.2360\n",
      "Epoch 4/10\n",
      "38/38 [==============================] - 0s 3ms/step - loss: 100.1854 - mean_squared_error: 100.1854\n",
      "Epoch 5/10\n",
      "38/38 [==============================] - 0s 3ms/step - loss: 142.7933 - mean_squared_error: 142.7933\n",
      "Epoch 6/10\n",
      "38/38 [==============================] - 0s 3ms/step - loss: 142.4360 - mean_squared_error: 142.4360\n",
      "Epoch 7/10\n",
      "38/38 [==============================] - 0s 2ms/step - loss: 109.7993 - mean_squared_error: 109.7993\n",
      "Epoch 8/10\n",
      "38/38 [==============================] - 0s 2ms/step - loss: 48.0242 - mean_squared_error: 48.0242\n",
      "Epoch 9/10\n",
      "38/38 [==============================] - 0s 3ms/step - loss: 57.8394 - mean_squared_error: 57.8394\n",
      "Epoch 10/10\n",
      "38/38 [==============================] - 0s 2ms/step - loss: 41.8968 - mean_squared_error: 41.8968\n"
     ]
    },
    {
     "data": {
      "text/plain": [
       "0.6203264407122673"
      ]
     },
     "execution_count": 133,
     "metadata": {},
     "output_type": "execute_result"
    }
   ],
   "source": [
    "model = tf.keras.Sequential([\n",
    "    layers.Dense(128, activation='relu'),\n",
    "    layers.Dense(128, activation='relu'),\n",
    "    layers.Dense(128, activation='relu'),\n",
    "    layers.Dense(units=1)\n",
    "])\n",
    "\n",
    "model.compile(optimizer=tf.optimizers.RMSprop(learning_rate=0.1),\n",
    "              loss=['mean_squared_error'],\n",
    "              metrics=['mean_squared_error'])\n",
    "\n",
    "history = model.fit(\n",
    "    X_train5,\n",
    "    y_train5,\n",
    "    epochs=10,\n",
    "    batch_size=10\n",
    ")\n",
    "\n",
    "y_pred_test = model.predict(X_test5)\n",
    "r2_score(y_test5, y_pred_test)\n"
   ]
  },
  {
   "cell_type": "code",
   "execution_count": 134,
   "metadata": {},
   "outputs": [
    {
     "data": {
      "text/html": [
       "<div>\n",
       "<style scoped>\n",
       "    .dataframe tbody tr th:only-of-type {\n",
       "        vertical-align: middle;\n",
       "    }\n",
       "\n",
       "    .dataframe tbody tr th {\n",
       "        vertical-align: top;\n",
       "    }\n",
       "\n",
       "    .dataframe thead th {\n",
       "        text-align: right;\n",
       "    }\n",
       "</style>\n",
       "<table border=\"1\" class=\"dataframe\">\n",
       "  <thead>\n",
       "    <tr style=\"text-align: right;\">\n",
       "      <th></th>\n",
       "      <th>name</th>\n",
       "      <th>1</th>\n",
       "      <th>2</th>\n",
       "      <th>3</th>\n",
       "      <th>4</th>\n",
       "      <th>5</th>\n",
       "    </tr>\n",
       "  </thead>\n",
       "  <tbody>\n",
       "    <tr>\n",
       "      <th>0</th>\n",
       "      <td>neron</td>\n",
       "      <td>128.0000</td>\n",
       "      <td>128.0000</td>\n",
       "      <td>256.0000</td>\n",
       "      <td>256.0000</td>\n",
       "      <td>256.0000</td>\n",
       "    </tr>\n",
       "    <tr>\n",
       "      <th>1</th>\n",
       "      <td>epochs</td>\n",
       "      <td>5.0000</td>\n",
       "      <td>5.0000</td>\n",
       "      <td>5.0000</td>\n",
       "      <td>10.0000</td>\n",
       "      <td>10.0000</td>\n",
       "    </tr>\n",
       "    <tr>\n",
       "      <th>2</th>\n",
       "      <td>layers</td>\n",
       "      <td>2.0000</td>\n",
       "      <td>3.0000</td>\n",
       "      <td>3.0000</td>\n",
       "      <td>3.0000</td>\n",
       "      <td>3.0000</td>\n",
       "    </tr>\n",
       "    <tr>\n",
       "      <th>3</th>\n",
       "      <td>R2</td>\n",
       "      <td>0.8679</td>\n",
       "      <td>0.5800</td>\n",
       "      <td>0.6600</td>\n",
       "      <td>0.8400</td>\n",
       "      <td>0.6200</td>\n",
       "    </tr>\n",
       "    <tr>\n",
       "      <th>4</th>\n",
       "      <td>mse</td>\n",
       "      <td>23.2035</td>\n",
       "      <td>39.8861</td>\n",
       "      <td>34.9009</td>\n",
       "      <td>32.6266</td>\n",
       "      <td>41.8968</td>\n",
       "    </tr>\n",
       "  </tbody>\n",
       "</table>\n",
       "</div>"
      ],
      "text/plain": [
       "     name         1         2         3         4         5\n",
       "0   neron  128.0000  128.0000  256.0000  256.0000  256.0000\n",
       "1  epochs    5.0000    5.0000    5.0000   10.0000   10.0000\n",
       "2  layers    2.0000    3.0000    3.0000    3.0000    3.0000\n",
       "3      R2    0.8679    0.5800    0.6600    0.8400    0.6200\n",
       "4     mse   23.2035   39.8861   34.9009   32.6266   41.8968"
      ]
     },
     "execution_count": 134,
     "metadata": {},
     "output_type": "execute_result"
    }
   ],
   "source": [
    "itog['5'] = [256, 10, 3, 0.62, 41.8968]\n",
    "itog"
   ]
  },
  {
   "cell_type": "markdown",
   "metadata": {},
   "source": [
    "6 - 4 слоя, 50 эпох, 256 нейронов, оптимизатор - Adam"
   ]
  },
  {
   "cell_type": "code",
   "execution_count": 137,
   "metadata": {},
   "outputs": [],
   "source": [
    "X_train6, X_test6, y_train6, y_test6 = X_train, X_test, y_train, y_test"
   ]
  },
  {
   "cell_type": "code",
   "execution_count": 138,
   "metadata": {},
   "outputs": [
    {
     "name": "stdout",
     "output_type": "stream",
     "text": [
      "Epoch 1/50\n",
      "379/379 [==============================] - 1s 2ms/step - loss: 108.1667 - mean_squared_error: 108.1667\n",
      "Epoch 2/50\n",
      "379/379 [==============================] - 1s 2ms/step - loss: 79.7969 - mean_squared_error: 79.7969\n",
      "Epoch 3/50\n",
      "379/379 [==============================] - 1s 2ms/step - loss: 87.5936 - mean_squared_error: 87.5936\n",
      "Epoch 4/50\n",
      "379/379 [==============================] - 1s 2ms/step - loss: 86.4110 - mean_squared_error: 86.4110\n",
      "Epoch 5/50\n",
      "379/379 [==============================] - 1s 2ms/step - loss: 83.0788 - mean_squared_error: 83.0788\n",
      "Epoch 6/50\n",
      "379/379 [==============================] - 1s 2ms/step - loss: 83.5126 - mean_squared_error: 83.5126\n",
      "Epoch 7/50\n",
      "379/379 [==============================] - 1s 2ms/step - loss: 82.7987 - mean_squared_error: 82.7987\n",
      "Epoch 8/50\n",
      "379/379 [==============================] - 1s 2ms/step - loss: 81.3727 - mean_squared_error: 81.3727\n",
      "Epoch 9/50\n",
      "379/379 [==============================] - 1s 2ms/step - loss: 82.2969 - mean_squared_error: 82.2969\n",
      "Epoch 10/50\n",
      "379/379 [==============================] - 1s 2ms/step - loss: 83.1012 - mean_squared_error: 83.1012\n",
      "Epoch 11/50\n",
      "379/379 [==============================] - 1s 2ms/step - loss: 82.3145 - mean_squared_error: 82.3145\n",
      "Epoch 12/50\n",
      "379/379 [==============================] - 1s 2ms/step - loss: 83.6375 - mean_squared_error: 83.6375\n",
      "Epoch 13/50\n",
      "379/379 [==============================] - 1s 2ms/step - loss: 83.1349 - mean_squared_error: 83.1349\n",
      "Epoch 14/50\n",
      "379/379 [==============================] - 1s 2ms/step - loss: 82.5979 - mean_squared_error: 82.5979\n",
      "Epoch 15/50\n",
      "379/379 [==============================] - 1s 2ms/step - loss: 81.5829 - mean_squared_error: 81.5829\n",
      "Epoch 16/50\n",
      "379/379 [==============================] - 1s 2ms/step - loss: 80.9678 - mean_squared_error: 80.9678\n",
      "Epoch 17/50\n",
      "379/379 [==============================] - 1s 2ms/step - loss: 81.3711 - mean_squared_error: 81.3711\n",
      "Epoch 18/50\n",
      "379/379 [==============================] - 1s 2ms/step - loss: 83.1957 - mean_squared_error: 83.1957\n",
      "Epoch 19/50\n",
      "379/379 [==============================] - 1s 2ms/step - loss: 80.5789 - mean_squared_error: 80.5789\n",
      "Epoch 20/50\n",
      "379/379 [==============================] - 1s 2ms/step - loss: 82.7727 - mean_squared_error: 82.7727\n",
      "Epoch 21/50\n",
      "379/379 [==============================] - 1s 2ms/step - loss: 81.0617 - mean_squared_error: 81.0617\n",
      "Epoch 22/50\n",
      "379/379 [==============================] - 1s 2ms/step - loss: 82.9636 - mean_squared_error: 82.9636\n",
      "Epoch 23/50\n",
      "379/379 [==============================] - 1s 3ms/step - loss: 81.6790 - mean_squared_error: 81.6790\n",
      "Epoch 24/50\n",
      "379/379 [==============================] - 1s 2ms/step - loss: 80.7973 - mean_squared_error: 80.7973\n",
      "Epoch 25/50\n",
      "379/379 [==============================] - 1s 2ms/step - loss: 81.0404 - mean_squared_error: 81.0404\n",
      "Epoch 26/50\n",
      "379/379 [==============================] - 1s 2ms/step - loss: 80.6592 - mean_squared_error: 80.6592\n",
      "Epoch 27/50\n",
      "379/379 [==============================] - 1s 2ms/step - loss: 79.5930 - mean_squared_error: 79.5930\n",
      "Epoch 28/50\n",
      "379/379 [==============================] - 1s 2ms/step - loss: 79.9073 - mean_squared_error: 79.9073\n",
      "Epoch 29/50\n",
      "379/379 [==============================] - 1s 2ms/step - loss: 80.0237 - mean_squared_error: 80.0237\n",
      "Epoch 30/50\n",
      "379/379 [==============================] - 1s 2ms/step - loss: 80.2019 - mean_squared_error: 80.2019\n",
      "Epoch 31/50\n",
      "379/379 [==============================] - 1s 3ms/step - loss: 79.7466 - mean_squared_error: 79.7466\n",
      "Epoch 32/50\n",
      "379/379 [==============================] - 1s 2ms/step - loss: 80.3145 - mean_squared_error: 80.3145\n",
      "Epoch 33/50\n",
      "379/379 [==============================] - 1s 2ms/step - loss: 80.0450 - mean_squared_error: 80.0450\n",
      "Epoch 34/50\n",
      "379/379 [==============================] - 1s 2ms/step - loss: 79.8914 - mean_squared_error: 79.8914\n",
      "Epoch 35/50\n",
      "379/379 [==============================] - 1s 2ms/step - loss: 79.9243 - mean_squared_error: 79.9243\n",
      "Epoch 36/50\n",
      "379/379 [==============================] - 1s 2ms/step - loss: 80.1078 - mean_squared_error: 80.1078\n",
      "Epoch 37/50\n",
      "379/379 [==============================] - 1s 3ms/step - loss: 79.9966 - mean_squared_error: 79.9966\n",
      "Epoch 38/50\n",
      "379/379 [==============================] - 1s 3ms/step - loss: 79.7585 - mean_squared_error: 79.7585\n",
      "Epoch 39/50\n",
      "379/379 [==============================] - 1s 2ms/step - loss: 79.8492 - mean_squared_error: 79.8492\n",
      "Epoch 40/50\n",
      "379/379 [==============================] - 1s 2ms/step - loss: 80.0869 - mean_squared_error: 80.0869\n",
      "Epoch 41/50\n",
      "379/379 [==============================] - 1s 2ms/step - loss: 79.7572 - mean_squared_error: 79.7572\n",
      "Epoch 42/50\n",
      "379/379 [==============================] - 1s 2ms/step - loss: 80.1705 - mean_squared_error: 80.1705\n",
      "Epoch 43/50\n",
      "379/379 [==============================] - 1s 2ms/step - loss: 79.9449 - mean_squared_error: 79.9449\n",
      "Epoch 44/50\n",
      "379/379 [==============================] - 1s 2ms/step - loss: 79.7928 - mean_squared_error: 79.7928\n",
      "Epoch 45/50\n",
      "379/379 [==============================] - 1s 2ms/step - loss: 80.0836 - mean_squared_error: 80.0836\n",
      "Epoch 46/50\n",
      "379/379 [==============================] - 1s 2ms/step - loss: 79.7900 - mean_squared_error: 79.7900\n",
      "Epoch 47/50\n",
      "379/379 [==============================] - 1s 2ms/step - loss: 80.4207 - mean_squared_error: 80.4207\n",
      "Epoch 48/50\n",
      "379/379 [==============================] - 1s 2ms/step - loss: 79.9330 - mean_squared_error: 79.9330\n",
      "Epoch 49/50\n",
      "379/379 [==============================] - 1s 2ms/step - loss: 79.6748 - mean_squared_error: 79.6748\n",
      "Epoch 50/50\n",
      "379/379 [==============================] - 1s 3ms/step - loss: 80.1507 - mean_squared_error: 80.1507\n"
     ]
    },
    {
     "data": {
      "text/plain": [
       "-0.0040683051923817715"
      ]
     },
     "execution_count": 138,
     "metadata": {},
     "output_type": "execute_result"
    }
   ],
   "source": [
    "model = tf.keras.Sequential([\n",
    "    layers.Dense(128, activation='relu'),\n",
    "    layers.Dense(128, activation='relu'),\n",
    "    layers.Dense(128, activation='relu'),\n",
    "    layers.Dense(units=1)\n",
    "])\n",
    "\n",
    "model.compile(optimizer=tf.optimizers.Adam(learning_rate=0.1),\n",
    "              loss=['mean_squared_error'],\n",
    "              metrics=['mean_squared_error'])\n",
    "\n",
    "history = model.fit(\n",
    "    X_train6,\n",
    "    y_train6,\n",
    "    epochs=50,\n",
    "    batch_size=1\n",
    ")\n",
    "\n",
    "y_pred_test = model.predict(X_test6)\n",
    "r2_score(y_test6, y_pred_test)\n"
   ]
  },
  {
   "cell_type": "code",
   "execution_count": 139,
   "metadata": {},
   "outputs": [
    {
     "data": {
      "image/png": "[encoded data removed]",
      "text/plain": [
       "<Figure size 432x288 with 1 Axes>"
      ]
     },
     "metadata": {
      "needs_background": "light"
     },
     "output_type": "display_data"
    }
   ],
   "source": [
    "plot_loss(history)"
   ]
  },
  {
   "cell_type": "code",
   "execution_count": 140,
   "metadata": {},
   "outputs": [
    {
     "data": {
      "text/html": [
       "<div>\n",
       "<style scoped>\n",
       "    .dataframe tbody tr th:only-of-type {\n",
       "        vertical-align: middle;\n",
       "    }\n",
       "\n",
       "    .dataframe tbody tr th {\n",
       "        vertical-align: top;\n",
       "    }\n",
       "\n",
       "    .dataframe thead th {\n",
       "        text-align: right;\n",
       "    }\n",
       "</style>\n",
       "<table border=\"1\" class=\"dataframe\">\n",
       "  <thead>\n",
       "    <tr style=\"text-align: right;\">\n",
       "      <th></th>\n",
       "      <th>name</th>\n",
       "      <th>1</th>\n",
       "      <th>2</th>\n",
       "      <th>3</th>\n",
       "      <th>4</th>\n",
       "      <th>5</th>\n",
       "      <th>6</th>\n",
       "    </tr>\n",
       "  </thead>\n",
       "  <tbody>\n",
       "    <tr>\n",
       "      <th>0</th>\n",
       "      <td>neron</td>\n",
       "      <td>128.0000</td>\n",
       "      <td>128.0000</td>\n",
       "      <td>256.0000</td>\n",
       "      <td>256.0000</td>\n",
       "      <td>256.0000</td>\n",
       "      <td>256.0000</td>\n",
       "    </tr>\n",
       "    <tr>\n",
       "      <th>1</th>\n",
       "      <td>epochs</td>\n",
       "      <td>5.0000</td>\n",
       "      <td>5.0000</td>\n",
       "      <td>5.0000</td>\n",
       "      <td>10.0000</td>\n",
       "      <td>10.0000</td>\n",
       "      <td>50.0000</td>\n",
       "    </tr>\n",
       "    <tr>\n",
       "      <th>2</th>\n",
       "      <td>layers</td>\n",
       "      <td>2.0000</td>\n",
       "      <td>3.0000</td>\n",
       "      <td>3.0000</td>\n",
       "      <td>3.0000</td>\n",
       "      <td>3.0000</td>\n",
       "      <td>3.0000</td>\n",
       "    </tr>\n",
       "    <tr>\n",
       "      <th>3</th>\n",
       "      <td>R2</td>\n",
       "      <td>0.8679</td>\n",
       "      <td>0.5800</td>\n",
       "      <td>0.6600</td>\n",
       "      <td>0.8400</td>\n",
       "      <td>0.6200</td>\n",
       "      <td>0.0040</td>\n",
       "    </tr>\n",
       "    <tr>\n",
       "      <th>4</th>\n",
       "      <td>mse</td>\n",
       "      <td>23.2035</td>\n",
       "      <td>39.8861</td>\n",
       "      <td>34.9009</td>\n",
       "      <td>32.6266</td>\n",
       "      <td>41.8968</td>\n",
       "      <td>80.1507</td>\n",
       "    </tr>\n",
       "  </tbody>\n",
       "</table>\n",
       "</div>"
      ],
      "text/plain": [
       "     name         1         2         3         4         5         6\n",
       "0   neron  128.0000  128.0000  256.0000  256.0000  256.0000  256.0000\n",
       "1  epochs    5.0000    5.0000    5.0000   10.0000   10.0000   50.0000\n",
       "2  layers    2.0000    3.0000    3.0000    3.0000    3.0000    3.0000\n",
       "3      R2    0.8679    0.5800    0.6600    0.8400    0.6200    0.0040\n",
       "4     mse   23.2035   39.8861   34.9009   32.6266   41.8968   80.1507"
      ]
     },
     "execution_count": 140,
     "metadata": {},
     "output_type": "execute_result"
    }
   ],
   "source": [
    "itog['6'] = [256, 50, 3, 0.0040, 80.1507]\n",
    "itog"
   ]
  },
  {
   "cell_type": "markdown",
   "metadata": {},
   "source": [
    "7 - 5 слоя, 25 эпох, 300 нейронов, оптимизатор - Adam"
   ]
  },
  {
   "cell_type": "code",
   "execution_count": 141,
   "metadata": {},
   "outputs": [],
   "source": [
    "X_train7, X_test7, y_train7, y_test7 = X_train, X_test, y_train, y_test"
   ]
  },
  {
   "cell_type": "code",
   "execution_count": 144,
   "metadata": {},
   "outputs": [
    {
     "name": "stdout",
     "output_type": "stream",
     "text": [
      "Epoch 1/25\n",
      "76/76 [==============================] - 1s 4ms/step - loss: 1029453.1875 - mean_squared_error: 1029453.0625\n",
      "Epoch 2/25\n",
      "76/76 [==============================] - 0s 4ms/step - loss: 57.0728 - mean_squared_error: 57.0728\n",
      "Epoch 3/25\n",
      "76/76 [==============================] - 0s 4ms/step - loss: 55.3679 - mean_squared_error: 55.3679\n",
      "Epoch 4/25\n",
      "76/76 [==============================] - 0s 4ms/step - loss: 36.2136 - mean_squared_error: 36.2136\n",
      "Epoch 5/25\n",
      "76/76 [==============================] - 0s 4ms/step - loss: 68.0643 - mean_squared_error: 68.0643\n",
      "Epoch 6/25\n",
      "76/76 [==============================] - 0s 4ms/step - loss: 35.2026 - mean_squared_error: 35.2026\n",
      "Epoch 7/25\n",
      "76/76 [==============================] - 0s 4ms/step - loss: 33.3093 - mean_squared_error: 33.3093\n",
      "Epoch 8/25\n",
      "76/76 [==============================] - 0s 4ms/step - loss: 27410.1953 - mean_squared_error: 27410.1953\n",
      "Epoch 9/25\n",
      "76/76 [==============================] - 0s 4ms/step - loss: 555.1580 - mean_squared_error: 555.1580\n",
      "Epoch 10/25\n",
      "76/76 [==============================] - 0s 4ms/step - loss: 530.2908 - mean_squared_error: 530.2908\n",
      "Epoch 11/25\n",
      "76/76 [==============================] - 0s 4ms/step - loss: 504.9111 - mean_squared_error: 504.9111\n",
      "Epoch 12/25\n",
      "76/76 [==============================] - 0s 4ms/step - loss: 479.4426 - mean_squared_error: 479.4427\n",
      "Epoch 13/25\n",
      "76/76 [==============================] - 0s 5ms/step - loss: 453.8212 - mean_squared_error: 453.8212\n",
      "Epoch 14/25\n",
      "76/76 [==============================] - 0s 4ms/step - loss: 428.3900 - mean_squared_error: 428.3900\n",
      "Epoch 15/25\n",
      "76/76 [==============================] - 0s 5ms/step - loss: 403.3259 - mean_squared_error: 403.3259\n",
      "Epoch 16/25\n",
      "76/76 [==============================] - 0s 4ms/step - loss: 378.7413 - mean_squared_error: 378.7413\n",
      "Epoch 17/25\n",
      "76/76 [==============================] - 0s 4ms/step - loss: 354.8106 - mean_squared_error: 354.8106\n",
      "Epoch 18/25\n",
      "76/76 [==============================] - 0s 4ms/step - loss: 331.6462 - mean_squared_error: 331.6462\n",
      "Epoch 19/25\n",
      "76/76 [==============================] - 0s 5ms/step - loss: 309.3958 - mean_squared_error: 309.3958\n",
      "Epoch 20/25\n",
      "76/76 [==============================] - 0s 4ms/step - loss: 288.0155 - mean_squared_error: 288.0155\n",
      "Epoch 21/25\n",
      "76/76 [==============================] - 0s 4ms/step - loss: 267.7594 - mean_squared_error: 267.7594\n",
      "Epoch 22/25\n",
      "76/76 [==============================] - 0s 4ms/step - loss: 248.6178 - mean_squared_error: 248.6178\n",
      "Epoch 23/25\n",
      "76/76 [==============================] - 0s 4ms/step - loss: 230.6058 - mean_squared_error: 230.6058\n",
      "Epoch 24/25\n",
      "76/76 [==============================] - 0s 4ms/step - loss: 213.8107 - mean_squared_error: 213.8107\n",
      "Epoch 25/25\n",
      "76/76 [==============================] - 0s 4ms/step - loss: 198.2631 - mean_squared_error: 198.2631\n"
     ]
    },
    {
     "data": {
      "text/plain": [
       "-1.2873296802257994"
      ]
     },
     "execution_count": 144,
     "metadata": {},
     "output_type": "execute_result"
    }
   ],
   "source": [
    "model = tf.keras.Sequential([\n",
    "    layers.Dense(300, activation='relu'),\n",
    "    layers.Dense(300, activation='relu'),\n",
    "    layers.Dense(300, activation='relu'),\n",
    "    layers.Dense(300, activation='relu'),\n",
    "    layers.Dense(units=1)\n",
    "])\n",
    "\n",
    "model.compile(optimizer=tf.optimizers.Adam(learning_rate=0.1),\n",
    "              loss=['mean_squared_error'],\n",
    "              metrics=['mean_squared_error'])\n",
    "\n",
    "history = model.fit(\n",
    "    X_train7,\n",
    "    y_train7,\n",
    "    epochs=25,\n",
    "    batch_size=5\n",
    ")\n",
    "\n",
    "y_pred_test = model.predict(X_test7)\n",
    "r2_score(y_test7, y_pred_test)\n"
   ]
  },
  {
   "cell_type": "code",
   "execution_count": 147,
   "metadata": {},
   "outputs": [
    {
     "data": {
      "image/png": "[encoded data removed]",
      "text/plain": [
       "<Figure size 432x288 with 1 Axes>"
      ]
     },
     "metadata": {
      "needs_background": "light"
     },
     "output_type": "display_data"
    }
   ],
   "source": [
    "plot_loss(history)"
   ]
  },
  {
   "cell_type": "code",
   "execution_count": 153,
   "metadata": {},
   "outputs": [
    {
     "data": {
      "text/html": [
       "<div>\n",
       "<style scoped>\n",
       "    .dataframe tbody tr th:only-of-type {\n",
       "        vertical-align: middle;\n",
       "    }\n",
       "\n",
       "    .dataframe tbody tr th {\n",
       "        vertical-align: top;\n",
       "    }\n",
       "\n",
       "    .dataframe thead th {\n",
       "        text-align: right;\n",
       "    }\n",
       "</style>\n",
       "<table border=\"1\" class=\"dataframe\">\n",
       "  <thead>\n",
       "    <tr style=\"text-align: right;\">\n",
       "      <th></th>\n",
       "      <th>name</th>\n",
       "      <th>1</th>\n",
       "      <th>2</th>\n",
       "      <th>3</th>\n",
       "      <th>4</th>\n",
       "      <th>5</th>\n",
       "      <th>6</th>\n",
       "      <th>7</th>\n",
       "    </tr>\n",
       "  </thead>\n",
       "  <tbody>\n",
       "    <tr>\n",
       "      <th>0</th>\n",
       "      <td>neron</td>\n",
       "      <td>128.0000</td>\n",
       "      <td>128.0000</td>\n",
       "      <td>256.0000</td>\n",
       "      <td>256.0000</td>\n",
       "      <td>256.0000</td>\n",
       "      <td>256.0000</td>\n",
       "      <td>300.0000</td>\n",
       "    </tr>\n",
       "    <tr>\n",
       "      <th>1</th>\n",
       "      <td>epochs</td>\n",
       "      <td>5.0000</td>\n",
       "      <td>5.0000</td>\n",
       "      <td>5.0000</td>\n",
       "      <td>10.0000</td>\n",
       "      <td>10.0000</td>\n",
       "      <td>50.0000</td>\n",
       "      <td>25.0000</td>\n",
       "    </tr>\n",
       "    <tr>\n",
       "      <th>2</th>\n",
       "      <td>layers</td>\n",
       "      <td>2.0000</td>\n",
       "      <td>3.0000</td>\n",
       "      <td>3.0000</td>\n",
       "      <td>3.0000</td>\n",
       "      <td>3.0000</td>\n",
       "      <td>3.0000</td>\n",
       "      <td>5.0000</td>\n",
       "    </tr>\n",
       "    <tr>\n",
       "      <th>3</th>\n",
       "      <td>R2</td>\n",
       "      <td>0.8679</td>\n",
       "      <td>0.5800</td>\n",
       "      <td>0.6600</td>\n",
       "      <td>0.8400</td>\n",
       "      <td>0.6200</td>\n",
       "      <td>0.0040</td>\n",
       "      <td>-1.2873</td>\n",
       "    </tr>\n",
       "    <tr>\n",
       "      <th>4</th>\n",
       "      <td>mse</td>\n",
       "      <td>23.2035</td>\n",
       "      <td>39.8861</td>\n",
       "      <td>34.9009</td>\n",
       "      <td>32.6266</td>\n",
       "      <td>41.8968</td>\n",
       "      <td>80.1507</td>\n",
       "      <td>198.2631</td>\n",
       "    </tr>\n",
       "  </tbody>\n",
       "</table>\n",
       "</div>"
      ],
      "text/plain": [
       "     name         1         2         3         4         5         6  \\\n",
       "0   neron  128.0000  128.0000  256.0000  256.0000  256.0000  256.0000   \n",
       "1  epochs    5.0000    5.0000    5.0000   10.0000   10.0000   50.0000   \n",
       "2  layers    2.0000    3.0000    3.0000    3.0000    3.0000    3.0000   \n",
       "3      R2    0.8679    0.5800    0.6600    0.8400    0.6200    0.0040   \n",
       "4     mse   23.2035   39.8861   34.9009   32.6266   41.8968   80.1507   \n",
       "\n",
       "          7  \n",
       "0  300.0000  \n",
       "1   25.0000  \n",
       "2    5.0000  \n",
       "3   -1.2873  \n",
       "4  198.2631  "
      ]
     },
     "execution_count": 153,
     "metadata": {},
     "output_type": "execute_result"
    }
   ],
   "source": [
    "itog['7'] = [300, 25, 5, -1.2873, 198.2631]\n",
    "itog"
   ]
  },
  {
   "cell_type": "markdown",
   "metadata": {},
   "source": [
    "8 - 4 слоя, 25 эпох, 64 нейронов, оптимизатор - Adam"
   ]
  },
  {
   "cell_type": "code",
   "execution_count": 148,
   "metadata": {},
   "outputs": [],
   "source": [
    "X_train8, X_test8, y_train8, y_test8 = X_train, X_test, y_train, y_test"
   ]
  },
  {
   "cell_type": "code",
   "execution_count": 149,
   "metadata": {},
   "outputs": [
    {
     "name": "stdout",
     "output_type": "stream",
     "text": [
      "Epoch 1/25\n",
      "76/76 [==============================] - 1s 2ms/step - loss: 212.2099 - mean_squared_error: 212.2099\n",
      "Epoch 2/25\n",
      "76/76 [==============================] - 0s 3ms/step - loss: 46.5302 - mean_squared_error: 46.5302\n",
      "Epoch 3/25\n",
      "76/76 [==============================] - 0s 3ms/step - loss: 32.0982 - mean_squared_error: 32.0982\n",
      "Epoch 4/25\n",
      "76/76 [==============================] - 0s 3ms/step - loss: 36.4719 - mean_squared_error: 36.4719\n",
      "Epoch 5/25\n",
      "76/76 [==============================] - 0s 2ms/step - loss: 27.6236 - mean_squared_error: 27.6236\n",
      "Epoch 6/25\n",
      "76/76 [==============================] - 0s 2ms/step - loss: 29.0737 - mean_squared_error: 29.0737\n",
      "Epoch 7/25\n",
      "76/76 [==============================] - 0s 2ms/step - loss: 27.8196 - mean_squared_error: 27.8196\n",
      "Epoch 8/25\n",
      "76/76 [==============================] - 0s 2ms/step - loss: 30.0450 - mean_squared_error: 30.0450\n",
      "Epoch 9/25\n",
      "76/76 [==============================] - 0s 2ms/step - loss: 32.0747 - mean_squared_error: 32.0747\n",
      "Epoch 10/25\n",
      "76/76 [==============================] - 0s 2ms/step - loss: 28.4450 - mean_squared_error: 28.4450\n",
      "Epoch 11/25\n",
      "76/76 [==============================] - 0s 2ms/step - loss: 25.8751 - mean_squared_error: 25.8751\n",
      "Epoch 12/25\n",
      "76/76 [==============================] - 0s 2ms/step - loss: 27.3849 - mean_squared_error: 27.3849\n",
      "Epoch 13/25\n",
      "76/76 [==============================] - 0s 2ms/step - loss: 24.7393 - mean_squared_error: 24.7393\n",
      "Epoch 14/25\n",
      "76/76 [==============================] - 0s 2ms/step - loss: 27.3069 - mean_squared_error: 27.3069\n",
      "Epoch 15/25\n",
      "76/76 [==============================] - 0s 2ms/step - loss: 26.6252 - mean_squared_error: 26.6252\n",
      "Epoch 16/25\n",
      "76/76 [==============================] - 0s 2ms/step - loss: 23.9629 - mean_squared_error: 23.9629\n",
      "Epoch 17/25\n",
      "76/76 [==============================] - 0s 2ms/step - loss: 27.8321 - mean_squared_error: 27.8321\n",
      "Epoch 18/25\n",
      "76/76 [==============================] - 0s 2ms/step - loss: 28.3903 - mean_squared_error: 28.3903\n",
      "Epoch 19/25\n",
      "76/76 [==============================] - 0s 2ms/step - loss: 24.3577 - mean_squared_error: 24.3577\n",
      "Epoch 20/25\n",
      "76/76 [==============================] - 0s 2ms/step - loss: 27.9172 - mean_squared_error: 27.9172\n",
      "Epoch 21/25\n",
      "76/76 [==============================] - 0s 2ms/step - loss: 23.7373 - mean_squared_error: 23.7373\n",
      "Epoch 22/25\n",
      "76/76 [==============================] - 0s 2ms/step - loss: 27.0933 - mean_squared_error: 27.0933\n",
      "Epoch 23/25\n",
      "76/76 [==============================] - 0s 2ms/step - loss: 25.3819 - mean_squared_error: 25.3819\n",
      "Epoch 24/25\n",
      "76/76 [==============================] - 0s 3ms/step - loss: 25.2855 - mean_squared_error: 25.2855\n",
      "Epoch 25/25\n",
      "76/76 [==============================] - 0s 3ms/step - loss: 25.7741 - mean_squared_error: 25.7741\n"
     ]
    },
    {
     "data": {
      "text/plain": [
       "0.8351869058525917"
      ]
     },
     "execution_count": 149,
     "metadata": {},
     "output_type": "execute_result"
    }
   ],
   "source": [
    "model = tf.keras.Sequential([\n",
    "    layers.Dense(64, activation='relu'),\n",
    "    layers.Dense(64, activation='relu'),\n",
    "    layers.Dense(64, activation='relu'),\n",
    "    layers.Dense(units=1)\n",
    "])\n",
    "\n",
    "model.compile(optimizer=tf.optimizers.Adam(learning_rate=0.1),\n",
    "              loss=['mean_squared_error'],\n",
    "              metrics=['mean_squared_error'])\n",
    "\n",
    "history = model.fit(\n",
    "    X_train8,\n",
    "    y_train8,\n",
    "    epochs=25,\n",
    "    batch_size=5\n",
    ")\n",
    "\n",
    "y_pred_test = model.predict(X_test8)\n",
    "r2_score(y_test8, y_pred_test)\n"
   ]
  },
  {
   "cell_type": "code",
   "execution_count": 150,
   "metadata": {},
   "outputs": [
    {
     "data": {
      "image/png": "[encoded data removed]",
      "text/plain": [
       "<Figure size 432x288 with 1 Axes>"
      ]
     },
     "metadata": {
      "needs_background": "light"
     },
     "output_type": "display_data"
    }
   ],
   "source": [
    "plot_loss(history)"
   ]
  },
  {
   "cell_type": "code",
   "execution_count": 154,
   "metadata": {},
   "outputs": [
    {
     "data": {
      "text/html": [
       "<div>\n",
       "<style scoped>\n",
       "    .dataframe tbody tr th:only-of-type {\n",
       "        vertical-align: middle;\n",
       "    }\n",
       "\n",
       "    .dataframe tbody tr th {\n",
       "        vertical-align: top;\n",
       "    }\n",
       "\n",
       "    .dataframe thead th {\n",
       "        text-align: right;\n",
       "    }\n",
       "</style>\n",
       "<table border=\"1\" class=\"dataframe\">\n",
       "  <thead>\n",
       "    <tr style=\"text-align: right;\">\n",
       "      <th></th>\n",
       "      <th>name</th>\n",
       "      <th>1</th>\n",
       "      <th>2</th>\n",
       "      <th>3</th>\n",
       "      <th>4</th>\n",
       "      <th>5</th>\n",
       "      <th>6</th>\n",
       "      <th>7</th>\n",
       "      <th>8</th>\n",
       "    </tr>\n",
       "  </thead>\n",
       "  <tbody>\n",
       "    <tr>\n",
       "      <th>0</th>\n",
       "      <td>neron</td>\n",
       "      <td>128.0000</td>\n",
       "      <td>128.0000</td>\n",
       "      <td>256.0000</td>\n",
       "      <td>256.0000</td>\n",
       "      <td>256.0000</td>\n",
       "      <td>256.0000</td>\n",
       "      <td>300.0000</td>\n",
       "      <td>64.0000</td>\n",
       "    </tr>\n",
       "    <tr>\n",
       "      <th>1</th>\n",
       "      <td>epochs</td>\n",
       "      <td>5.0000</td>\n",
       "      <td>5.0000</td>\n",
       "      <td>5.0000</td>\n",
       "      <td>10.0000</td>\n",
       "      <td>10.0000</td>\n",
       "      <td>50.0000</td>\n",
       "      <td>25.0000</td>\n",
       "      <td>25.0000</td>\n",
       "    </tr>\n",
       "    <tr>\n",
       "      <th>2</th>\n",
       "      <td>layers</td>\n",
       "      <td>2.0000</td>\n",
       "      <td>3.0000</td>\n",
       "      <td>3.0000</td>\n",
       "      <td>3.0000</td>\n",
       "      <td>3.0000</td>\n",
       "      <td>3.0000</td>\n",
       "      <td>5.0000</td>\n",
       "      <td>4.0000</td>\n",
       "    </tr>\n",
       "    <tr>\n",
       "      <th>3</th>\n",
       "      <td>R2</td>\n",
       "      <td>0.8679</td>\n",
       "      <td>0.5800</td>\n",
       "      <td>0.6600</td>\n",
       "      <td>0.8400</td>\n",
       "      <td>0.6200</td>\n",
       "      <td>0.0040</td>\n",
       "      <td>-1.2873</td>\n",
       "      <td>0.8351</td>\n",
       "    </tr>\n",
       "    <tr>\n",
       "      <th>4</th>\n",
       "      <td>mse</td>\n",
       "      <td>23.2035</td>\n",
       "      <td>39.8861</td>\n",
       "      <td>34.9009</td>\n",
       "      <td>32.6266</td>\n",
       "      <td>41.8968</td>\n",
       "      <td>80.1507</td>\n",
       "      <td>198.2631</td>\n",
       "      <td>25.7741</td>\n",
       "    </tr>\n",
       "  </tbody>\n",
       "</table>\n",
       "</div>"
      ],
      "text/plain": [
       "     name         1         2         3         4         5         6  \\\n",
       "0   neron  128.0000  128.0000  256.0000  256.0000  256.0000  256.0000   \n",
       "1  epochs    5.0000    5.0000    5.0000   10.0000   10.0000   50.0000   \n",
       "2  layers    2.0000    3.0000    3.0000    3.0000    3.0000    3.0000   \n",
       "3      R2    0.8679    0.5800    0.6600    0.8400    0.6200    0.0040   \n",
       "4     mse   23.2035   39.8861   34.9009   32.6266   41.8968   80.1507   \n",
       "\n",
       "          7        8  \n",
       "0  300.0000  64.0000  \n",
       "1   25.0000  25.0000  \n",
       "2    5.0000   4.0000  \n",
       "3   -1.2873   0.8351  \n",
       "4  198.2631  25.7741  "
      ]
     },
     "execution_count": 154,
     "metadata": {},
     "output_type": "execute_result"
    }
   ],
   "source": [
    "itog['8'] = [64, 25, 4, 0.8351, 25.7741]\n",
    "itog"
   ]
  },
  {
   "cell_type": "markdown",
   "metadata": {},
   "source": [
    "9 - 3 слоя, 15 эпох, 64 нейронов, оптимизатор - Adam"
   ]
  },
  {
   "cell_type": "code",
   "execution_count": 161,
   "metadata": {},
   "outputs": [],
   "source": [
    "X_train9, X_test9, y_train9, y_test9 = X_train, X_test, y_train, y_test"
   ]
  },
  {
   "cell_type": "code",
   "execution_count": 163,
   "metadata": {},
   "outputs": [
    {
     "name": "stdout",
     "output_type": "stream",
     "text": [
      "Epoch 1/15\n",
      "76/76 [==============================] - 1s 2ms/step - loss: 85.9285 - mean_squared_error: 85.9285\n",
      "Epoch 2/15\n",
      "76/76 [==============================] - 0s 2ms/step - loss: 42.1617 - mean_squared_error: 42.1617\n",
      "Epoch 3/15\n",
      "76/76 [==============================] - 0s 2ms/step - loss: 26.9696 - mean_squared_error: 26.9696\n",
      "Epoch 4/15\n",
      "76/76 [==============================] - 0s 3ms/step - loss: 38.3193 - mean_squared_error: 38.3193\n",
      "Epoch 5/15\n",
      "76/76 [==============================] - 0s 3ms/step - loss: 30.7586 - mean_squared_error: 30.7586\n",
      "Epoch 6/15\n",
      "76/76 [==============================] - 0s 3ms/step - loss: 45.7997 - mean_squared_error: 45.7997\n",
      "Epoch 7/15\n",
      "76/76 [==============================] - 0s 2ms/step - loss: 23.3716 - mean_squared_error: 23.3716\n",
      "Epoch 8/15\n",
      "76/76 [==============================] - 0s 2ms/step - loss: 23.9266 - mean_squared_error: 23.9266\n",
      "Epoch 9/15\n",
      "76/76 [==============================] - 0s 2ms/step - loss: 29.1318 - mean_squared_error: 29.1318\n",
      "Epoch 10/15\n",
      "76/76 [==============================] - 0s 2ms/step - loss: 25.0655 - mean_squared_error: 25.0655\n",
      "Epoch 11/15\n",
      "76/76 [==============================] - 0s 2ms/step - loss: 22.7010 - mean_squared_error: 22.7010\n",
      "Epoch 12/15\n",
      "76/76 [==============================] - 0s 2ms/step - loss: 23.6344 - mean_squared_error: 23.6344\n",
      "Epoch 13/15\n",
      "76/76 [==============================] - 0s 2ms/step - loss: 26.9266 - mean_squared_error: 26.9266\n",
      "Epoch 14/15\n",
      "76/76 [==============================] - 0s 2ms/step - loss: 29.2605 - mean_squared_error: 29.2605\n",
      "Epoch 15/15\n",
      "76/76 [==============================] - 0s 2ms/step - loss: 19.6069 - mean_squared_error: 19.6069\n"
     ]
    },
    {
     "data": {
      "text/plain": [
       "0.8620061056903104"
      ]
     },
     "execution_count": 163,
     "metadata": {},
     "output_type": "execute_result"
    }
   ],
   "source": [
    "model = tf.keras.Sequential([\n",
    "    layers.Dense(64, activation='relu'),\n",
    "    layers.Dense(64, activation='relu'),\n",
    "    layers.Dense(units=1)\n",
    "])\n",
    "\n",
    "model.compile(optimizer=tf.optimizers.Adam(learning_rate=0.1),\n",
    "              loss=['mean_squared_error'],\n",
    "              metrics=['mean_squared_error'])\n",
    "\n",
    "history = model.fit(\n",
    "    X_train9,\n",
    "    y_train9,\n",
    "    epochs=15,\n",
    "    batch_size=5\n",
    ")\n",
    "\n",
    "y_pred_test = model.predict(X_test9)\n",
    "r2_score(y_test9, y_pred_test)\n"
   ]
  },
  {
   "cell_type": "code",
   "execution_count": 164,
   "metadata": {},
   "outputs": [
    {
     "data": {
      "image/png": "[encoded data removed]",
      "text/plain": [
       "<Figure size 432x288 with 1 Axes>"
      ]
     },
     "metadata": {
      "needs_background": "light"
     },
     "output_type": "display_data"
    }
   ],
   "source": [
    "plot_loss(history)"
   ]
  },
  {
   "cell_type": "code",
   "execution_count": 165,
   "metadata": {},
   "outputs": [
    {
     "data": {
      "text/html": [
       "<div>\n",
       "<style scoped>\n",
       "    .dataframe tbody tr th:only-of-type {\n",
       "        vertical-align: middle;\n",
       "    }\n",
       "\n",
       "    .dataframe tbody tr th {\n",
       "        vertical-align: top;\n",
       "    }\n",
       "\n",
       "    .dataframe thead th {\n",
       "        text-align: right;\n",
       "    }\n",
       "</style>\n",
       "<table border=\"1\" class=\"dataframe\">\n",
       "  <thead>\n",
       "    <tr style=\"text-align: right;\">\n",
       "      <th></th>\n",
       "      <th>name</th>\n",
       "      <th>1</th>\n",
       "      <th>2</th>\n",
       "      <th>3</th>\n",
       "      <th>4</th>\n",
       "      <th>5</th>\n",
       "      <th>6</th>\n",
       "      <th>7</th>\n",
       "      <th>8</th>\n",
       "      <th>9</th>\n",
       "    </tr>\n",
       "  </thead>\n",
       "  <tbody>\n",
       "    <tr>\n",
       "      <th>0</th>\n",
       "      <td>neron</td>\n",
       "      <td>128.0000</td>\n",
       "      <td>128.0000</td>\n",
       "      <td>256.0000</td>\n",
       "      <td>256.0000</td>\n",
       "      <td>256.0000</td>\n",
       "      <td>256.0000</td>\n",
       "      <td>300.0000</td>\n",
       "      <td>64.0000</td>\n",
       "      <td>64.0000</td>\n",
       "    </tr>\n",
       "    <tr>\n",
       "      <th>1</th>\n",
       "      <td>epochs</td>\n",
       "      <td>5.0000</td>\n",
       "      <td>5.0000</td>\n",
       "      <td>5.0000</td>\n",
       "      <td>10.0000</td>\n",
       "      <td>10.0000</td>\n",
       "      <td>50.0000</td>\n",
       "      <td>25.0000</td>\n",
       "      <td>25.0000</td>\n",
       "      <td>15.0000</td>\n",
       "    </tr>\n",
       "    <tr>\n",
       "      <th>2</th>\n",
       "      <td>layers</td>\n",
       "      <td>2.0000</td>\n",
       "      <td>3.0000</td>\n",
       "      <td>3.0000</td>\n",
       "      <td>3.0000</td>\n",
       "      <td>3.0000</td>\n",
       "      <td>3.0000</td>\n",
       "      <td>5.0000</td>\n",
       "      <td>4.0000</td>\n",
       "      <td>3.0000</td>\n",
       "    </tr>\n",
       "    <tr>\n",
       "      <th>3</th>\n",
       "      <td>R2</td>\n",
       "      <td>0.8679</td>\n",
       "      <td>0.5800</td>\n",
       "      <td>0.6600</td>\n",
       "      <td>0.8400</td>\n",
       "      <td>0.6200</td>\n",
       "      <td>0.0040</td>\n",
       "      <td>-1.2873</td>\n",
       "      <td>0.8351</td>\n",
       "      <td>0.8620</td>\n",
       "    </tr>\n",
       "    <tr>\n",
       "      <th>4</th>\n",
       "      <td>mse</td>\n",
       "      <td>23.2035</td>\n",
       "      <td>39.8861</td>\n",
       "      <td>34.9009</td>\n",
       "      <td>32.6266</td>\n",
       "      <td>41.8968</td>\n",
       "      <td>80.1507</td>\n",
       "      <td>198.2631</td>\n",
       "      <td>25.7741</td>\n",
       "      <td>19.6069</td>\n",
       "    </tr>\n",
       "  </tbody>\n",
       "</table>\n",
       "</div>"
      ],
      "text/plain": [
       "     name         1         2         3         4         5         6  \\\n",
       "0   neron  128.0000  128.0000  256.0000  256.0000  256.0000  256.0000   \n",
       "1  epochs    5.0000    5.0000    5.0000   10.0000   10.0000   50.0000   \n",
       "2  layers    2.0000    3.0000    3.0000    3.0000    3.0000    3.0000   \n",
       "3      R2    0.8679    0.5800    0.6600    0.8400    0.6200    0.0040   \n",
       "4     mse   23.2035   39.8861   34.9009   32.6266   41.8968   80.1507   \n",
       "\n",
       "          7        8        9  \n",
       "0  300.0000  64.0000  64.0000  \n",
       "1   25.0000  25.0000  15.0000  \n",
       "2    5.0000   4.0000   3.0000  \n",
       "3   -1.2873   0.8351   0.8620  \n",
       "4  198.2631  25.7741  19.6069  "
      ]
     },
     "execution_count": 165,
     "metadata": {},
     "output_type": "execute_result"
    }
   ],
   "source": [
    "itog['9'] = [64, 15, 3, 0.8620, 19.6069]\n",
    "itog"
   ]
  },
  {
   "cell_type": "markdown",
   "metadata": {},
   "source": [
    "Вывод:\n",
    "\n",
    "Большое количество эпох, слоев и нейронов увеличивает переобученность модели."
   ]
  },
  {
   "cell_type": "markdown",
   "metadata": {},
   "source": [
    "Для получения лучшкго качества необходимо нахождение баланса."
   ]
  }
 ],
 "metadata": {
  "kernelspec": {
   "display_name": "Python 3",
   "language": "python",
   "name": "python3"
  },
  "language_info": {
   "codemirror_mode": {
    "name": "ipython",
    "version": 3
   },
   "file_extension": ".py",
   "mimetype": "text/x-python",
   "name": "python",
   "nbconvert_exporter": "python",
   "pygments_lexer": "ipython3",
   "version": "3.8.5"
  }
 },
 "nbformat": 4,
 "nbformat_minor": 4
}
